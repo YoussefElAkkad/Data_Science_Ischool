{
  "nbformat": 4,
  "nbformat_minor": 0,
  "metadata": {
    "colab": {
      "provenance": [],
      "authorship_tag": "ABX9TyOp2g+5t9h5462GadBb2U4b",
      "include_colab_link": true
    },
    "kernelspec": {
      "name": "python3",
      "display_name": "Python 3"
    },
    "language_info": {
      "name": "python"
    }
  },
  "cells": [
    {
      "cell_type": "markdown",
      "metadata": {
        "id": "view-in-github",
        "colab_type": "text"
      },
      "source": [
        "<a href=\"https://colab.research.google.com/github/YoussefElAkkad/Data_Science_Ischool/blob/main/first_notebook.ipynb\" target=\"_parent\"><img src=\"https://colab.research.google.com/assets/colab-badge.svg\" alt=\"Open In Colab\"/></a>"
      ]
    },
    {
      "cell_type": "code",
      "execution_count": 2,
      "metadata": {
        "colab": {
          "base_uri": "https://localhost:8080/"
        },
        "id": "oUDXOpOU5wMX",
        "outputId": "a49da592-e9c2-4761-b4c6-627efeaf3481"
      },
      "outputs": [
        {
          "output_type": "stream",
          "name": "stdout",
          "text": [
            "2024-09-23 17:22:46.239814\n"
          ]
        }
      ],
      "source": [
        "from datetime import *\n",
        "print(datetime.now())"
      ]
    },
    {
      "cell_type": "code",
      "source": [
        "age_year=2001\n",
        "print(f\"My age is {datetime.now().year-age_year}\")"
      ],
      "metadata": {
        "colab": {
          "base_uri": "https://localhost:8080/"
        },
        "id": "HyMVt23k9dKg",
        "outputId": "280776de-d109-4220-de8f-bd26555f58ed"
      },
      "execution_count": 7,
      "outputs": [
        {
          "output_type": "stream",
          "name": "stdout",
          "text": [
            "My age is 23\n"
          ]
        }
      ]
    }
  ]
}