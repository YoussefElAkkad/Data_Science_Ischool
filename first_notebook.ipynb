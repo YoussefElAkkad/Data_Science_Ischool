{
  "nbformat": 4,
  "nbformat_minor": 0,
  "metadata": {
    "colab": {
      "provenance": [],
      "authorship_tag": "ABX9TyOIWdCISjaiEZ3EhQ6ltdI9",
      "include_colab_link": true
    },
    "kernelspec": {
      "name": "python3",
      "display_name": "Python 3"
    },
    "language_info": {
      "name": "python"
    }
  },
  "cells": [
    {
      "cell_type": "markdown",
      "metadata": {
        "id": "view-in-github",
        "colab_type": "text"
      },
      "source": [
        "<a href=\"https://colab.research.google.com/github/YoussefElAkkad/Data_Science_Ischool/blob/main/first_notebook.ipynb\" target=\"_parent\"><img src=\"https://colab.research.google.com/assets/colab-badge.svg\" alt=\"Open In Colab\"/></a>"
      ]
    },
    {
      "cell_type": "code",
      "execution_count": 2,
      "metadata": {
        "colab": {
          "base_uri": "https://localhost:8080/"
        },
        "id": "oUDXOpOU5wMX",
        "outputId": "a49da592-e9c2-4761-b4c6-627efeaf3481"
      },
      "outputs": [
        {
          "output_type": "stream",
          "name": "stdout",
          "text": [
            "2024-09-23 17:22:46.239814\n"
          ]
        }
      ],
      "source": [
        "from datetime import *\n",
        "print(datetime.now())"
      ]
    },
    {
      "cell_type": "code",
      "source": [
        "age=5\n",
        "print(f\"My age is {age}\")"
      ],
      "metadata": {
        "colab": {
          "base_uri": "https://localhost:8080/"
        },
        "id": "HyMVt23k9dKg",
        "outputId": "941c54d4-1e23-4ab0-d03a-f2481326c7b8"
      },
      "execution_count": 3,
      "outputs": [
        {
          "output_type": "stream",
          "name": "stdout",
          "text": [
            "My age is 5\n"
          ]
        }
      ]
    }
  ]
}